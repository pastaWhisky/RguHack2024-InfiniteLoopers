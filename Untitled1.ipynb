{
 "cells": [
  {
   "cell_type": "markdown",
   "id": "b2d4c6f1",
   "metadata": {},
   "source": []
  },
  {
   "cell_type": "code",
   "execution_count": null,
   "id": "55228b14",
   "metadata": {},
   "outputs": [],
   "source": [
    "import pandas as pd\n",
    "from sklearn.ensemble import RandomForestRegressor\n",
    "from sklearn.model_selection import train_test_split\n",
    "from sklearn.preprocessing import StandardScaler\n",
    "from sklearn.pipeline import make_pipeline\n",
    "\n",
    "# Step 1: Load and preprocess the dataset\n",
    "# Replace 'your_data.csv' with the actual path or URL to your CSV file\n",
    "df = pd.read_csv('combined_cars.csv')\n",
    "\n",
    "# Assume 'df' is your preprocessed dataset\n",
    "# Features are the columns that influence the cost\n",
    "\n",
    "# Specify features\n",
    "features = ['year', 'mileage', 'mpg', 'engineSize']  # Update with your actual feature names\n",
    "\n",
    "# Step 2: Ask the user for input\n",
    "budget = int(input(\"Enter your budget: \"))\n",
    "ownership_duration = int(input(\"Enter how many years you plan to keep the car: \"))\n",
    "annual_mileage = int(input(\"Enter how many miles you will drive it per year: \"))\n",
    "\n",
    "# Step 3: Train a model to predict the total cost of ownership\n",
    "# Create a pipeline with StandardScaler and RandomForestRegressor\n",
    "model = make_pipeline(StandardScaler(), RandomForestRegressor(n_estimators=100, random_state=42))\n",
    "\n",
    "# Split the data into training and testing sets\n",
    "train_data, test_data = train_test_split(df, test_size=0.2, random_state=42)\n",
    "\n",
    "# Fit the model on the training data\n",
    "model.fit(train_data[features], train_data['price'])  # 'price' is used as a placeholder for the actual target variable\n",
    "\n",
    "# Step 4: Recommend the best car based on the predicted total cost\n",
    "# Prepare user input for prediction\n",
    "user_input = pd.DataFrame({\n",
    "    'price': [1],  # Replace with the actual year you are interested in\n",
    "    'mpg': [200],  # Replace with the actual miles per gallon for your typical use\n",
    "    'tax': [1]  # Replace with the actual engine size you are interested in\n",
    "})\n",
    "\n",
    "# Make predictions for the user input\n",
    "predicted_price = model.predict(user_input)\n",
    "\n",
    "# Calculate total cost based on predicted price and user input\n",
    "#total_cost = predicted_price[0] * ownership_duration + (annual_mileage / user_input['mpg'].iloc[0]) * fuel_price_per_gallon\n",
    "\n",
    "# Display the recommended car and cost information\n",
    "print(f'Recommended Car:\\n{user_input}')\n",
    "print(f'\\nEstimated Total Cost of Ownership over {ownership_duration} ')\n",
    "\n"
   ]
  },
  {
   "cell_type": "code",
   "execution_count": null,
   "id": "2dfe56a7",
   "metadata": {},
   "outputs": [],
   "source": []
  },
  {
   "cell_type": "code",
   "execution_count": null,
   "id": "08fea59b",
   "metadata": {},
   "outputs": [],
   "source": []
  }
 ],
 "metadata": {
  "kernelspec": {
   "display_name": "Python 3 (ipykernel)",
   "language": "python",
   "name": "python3"
  },
  "language_info": {
   "codemirror_mode": {
    "name": "ipython",
    "version": 3
   },
   "file_extension": ".py",
   "mimetype": "text/x-python",
   "name": "python",
   "nbconvert_exporter": "python",
   "pygments_lexer": "ipython3",
   "version": "3.9.12"
  }
 },
 "nbformat": 4,
 "nbformat_minor": 5
}
