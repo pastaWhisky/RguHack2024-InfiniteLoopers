{
 "cells": [
  {
   "cell_type": "markdown",
   "metadata": {},
   "source": [
    "# Main Jupyter notebook file that prepares and standardizes data in advance of the main calculation and score\n",
    "\n",
    "\n",
    "## will require the key steps.\n",
    "### Main car data records:\n",
    "\n",
    "1.) combining all car manufacturers into the same database\n",
    "2.) highlighting null values\n",
    "3.) standardizing formatting accross columns in centralized 'used car data' csv\n",
    "4.) standardizing datatype for cost to be float\n",
    "\n",
    "### preparing maintenance costs to match car data\n",
    "\n",
    "1.) renaming columns\n",
    "\n",
    "data cleaning and formatting\n",
    "merging maintenance costs into central DB\n",
    "\n",
    "\n",
    "### preparing ratings to match car data\n",
    "data cleaning and formatting\n",
    "merging car ratings into central DB"
   ]
  },
  {
   "cell_type": "code",
   "execution_count": 1,
   "metadata": {},
   "outputs": [],
   "source": [
    "# key imports\n",
    "import os\n",
    "import csv\n",
    "import glob\n",
    "import pandas as pd\n",
    "import datetime"
   ]
  },
  {
   "cell_type": "code",
   "execution_count": 2,
   "metadata": {
    "scrolled": true
   },
   "outputs": [
    {
     "name": "stdout",
     "output_type": "stream",
     "text": [
      "Requirement already satisfied: python-Levenshtein in /opt/anaconda3/lib/python3.9/site-packages (0.25.0)\n",
      "Requirement already satisfied: Levenshtein==0.25.0 in /opt/anaconda3/lib/python3.9/site-packages (from python-Levenshtein) (0.25.0)\n",
      "Requirement already satisfied: rapidfuzz<4.0.0,>=3.1.0 in /opt/anaconda3/lib/python3.9/site-packages (from Levenshtein==0.25.0->python-Levenshtein) (3.6.2)\n",
      "Note: you may need to restart the kernel to use updated packages.\n"
     ]
    }
   ],
   "source": [
    "pip install python-Levenshtein"
   ]
  },
  {
   "cell_type": "code",
   "execution_count": 3,
   "metadata": {},
   "outputs": [],
   "source": [
    "from fuzzywuzzy import fuzz, process"
   ]
  },
  {
   "cell_type": "markdown",
   "metadata": {},
   "source": [
    "# Combining all CSV files into a central CSV for processing\n",
    "\n",
    "##\n"
   ]
  },
  {
   "cell_type": "code",
   "execution_count": 4,
   "metadata": {},
   "outputs": [
    {
     "name": "stdout",
     "output_type": "stream",
     "text": [
      "['./Datasets/Provided_Datasets/used-car-dataset-challenge/Used_Car_Data_(incl mpg)/audi.csv', './Datasets/Provided_Datasets/used-car-dataset-challenge/Used_Car_Data_(incl mpg)/bmw.csv', './Datasets/Provided_Datasets/used-car-dataset-challenge/Used_Car_Data_(incl mpg)/ford.csv', './Datasets/Provided_Datasets/used-car-dataset-challenge/Used_Car_Data_(incl mpg)/hyundai.csv', './Datasets/Provided_Datasets/used-car-dataset-challenge/Used_Car_Data_(incl mpg)/merc.csv', './Datasets/Provided_Datasets/used-car-dataset-challenge/Used_Car_Data_(incl mpg)/skoda.csv', './Datasets/Provided_Datasets/used-car-dataset-challenge/Used_Car_Data_(incl mpg)/toyota.csv', './Datasets/Provided_Datasets/used-car-dataset-challenge/Used_Car_Data_(incl mpg)/vauxhall.csv', './Datasets/Provided_Datasets/used-car-dataset-challenge/Used_Car_Data_(incl mpg)/vw.csv']\n"
     ]
    }
   ],
   "source": [
    "# Define the path where your CSV files are located\n",
    "pathToExistingCSVs = './Datasets/Provided_Datasets/used-car-dataset-challenge/Used_Car_Data_(incl mpg)/*.csv'\n",
    "\n",
    "\n",
    "# Define the output file where you want to combine all CSVs\n",
    "output_file = './Datasets/Processed_Data/used_car_data_combined.csv'\n",
    "\n",
    "# Ensure output directory exists\n",
    "os.makedirs(os.path.dirname(output_file), exist_ok=True)\n",
    "\n",
    "# Clear the output file content before writing\n",
    "open(output_file, 'w').close()\n",
    "\n",
    "# Get a list of all CSV files in the directory, in alphabetical order based on brand\n",
    "csv_files = glob.glob(pathToExistingCSVs)\n",
    "csv_files = sorted(csv_files, key=lambda x: x.split('/')[-1])\n",
    "\n",
    "print(csv_files)\n",
    "\n",
    "# Initialize a variable to store all CSV headers (to ensure they are the same across files, plus the new \"brand\" column)\n",
    "headers = []"
   ]
  },
  {
   "cell_type": "markdown",
   "metadata": {},
   "source": [
    "# Correcting mismatched header for Hyundai"
   ]
  },
  {
   "cell_type": "code",
   "execution_count": 5,
   "metadata": {},
   "outputs": [],
   "source": [
    "hyundaiDF = pd.read_csv('./Datasets/Provided_Datasets/used-car-dataset-challenge/Used_Car_Data_(incl mpg)/hyundai.csv')\n",
    "hyundaiDF.rename(columns={'tax(£)': 'tax'}, inplace=True)\n",
    "hyundaiDF.to_csv('./Datasets/Provided_Datasets/used-car-dataset-challenge/Used_Car_Data_(incl mpg)/hyundai.csv', index=False, header=True)"
   ]
  },
  {
   "cell_type": "code",
   "execution_count": 6,
   "metadata": {},
   "outputs": [
    {
     "name": "stdout",
     "output_type": "stream",
     "text": [
      "All CSV files have been combined into ./Datasets/Processed_Data/used_car_data_combined.csv\n",
      "all unique headers are: ['brand', 'model', 'year', 'price', 'transmission', 'mileage', 'fuelType', 'tax', 'mpg', 'engineSize']\n"
     ]
    }
   ],
   "source": [
    "# Open the output file in write mode\n",
    "with open(output_file, 'w', newline='', encoding='utf-8') as f_out:\n",
    "    writer = csv.writer(f_out)\n",
    "\n",
    "    # Process each file in turn\n",
    "    for file in csv_files:\n",
    "        try:\n",
    "            # Extract brand name from the file name\n",
    "            brand_name = os.path.basename(file).replace('.csv', '')\n",
    "\n",
    "            with open(file, newline='', encoding='utf-8') as f_in:\n",
    "                reader = csv.reader(f_in)\n",
    "                header = next(reader)  # Read the header row\n",
    "\n",
    "                # If it's the first file, add \"brand\" to the headers list and write the header\n",
    "                if not headers:\n",
    "                    headers = ['brand'] + header\n",
    "                    writer.writerow(headers)\n",
    "                else:\n",
    "                    # catch here to make sure all files have similar structure\n",
    "                    assert headers[1:] == header, f\"Headers have a mismatch in the manufacturer: {file} with {header}\"\n",
    "\n",
    "\n",
    "                # Write the data rows with the \"brand\" column\n",
    "                for row in reader:\n",
    "                    writer.writerow([brand_name] + row)\n",
    "        except Exception as e:\n",
    "            print(f\"Theres an error with {file}: {e}\")\n",
    "\n",
    "            \n",
    "print(f\"All CSV files have been combined into {output_file}\")\n",
    "print(f\"all unique headers are: {headers}\")"
   ]
  },
  {
   "cell_type": "markdown",
   "metadata": {},
   "source": [
    "# Null value check"
   ]
  },
  {
   "cell_type": "code",
   "execution_count": 7,
   "metadata": {},
   "outputs": [
    {
     "name": "stdout",
     "output_type": "stream",
     "text": [
      "There are 0 null entries present in combined set.\n"
     ]
    },
    {
     "data": {
      "text/html": [
       "<div>\n",
       "<style scoped>\n",
       "    .dataframe tbody tr th:only-of-type {\n",
       "        vertical-align: middle;\n",
       "    }\n",
       "\n",
       "    .dataframe tbody tr th {\n",
       "        vertical-align: top;\n",
       "    }\n",
       "\n",
       "    .dataframe thead th {\n",
       "        text-align: right;\n",
       "    }\n",
       "</style>\n",
       "<table border=\"1\" class=\"dataframe\">\n",
       "  <thead>\n",
       "    <tr style=\"text-align: right;\">\n",
       "      <th></th>\n",
       "      <th>brand</th>\n",
       "      <th>model</th>\n",
       "      <th>year</th>\n",
       "      <th>price</th>\n",
       "      <th>transmission</th>\n",
       "      <th>mileage</th>\n",
       "      <th>fuelType</th>\n",
       "      <th>tax</th>\n",
       "      <th>mpg</th>\n",
       "      <th>engineSize</th>\n",
       "    </tr>\n",
       "  </thead>\n",
       "  <tbody>\n",
       "    <tr>\n",
       "      <th>0</th>\n",
       "      <td>audi</td>\n",
       "      <td>A1</td>\n",
       "      <td>2017</td>\n",
       "      <td>12500</td>\n",
       "      <td>Manual</td>\n",
       "      <td>15735</td>\n",
       "      <td>Petrol</td>\n",
       "      <td>150</td>\n",
       "      <td>55.4</td>\n",
       "      <td>1.4</td>\n",
       "    </tr>\n",
       "    <tr>\n",
       "      <th>1</th>\n",
       "      <td>audi</td>\n",
       "      <td>A6</td>\n",
       "      <td>2016</td>\n",
       "      <td>16500</td>\n",
       "      <td>Automatic</td>\n",
       "      <td>36203</td>\n",
       "      <td>Diesel</td>\n",
       "      <td>20</td>\n",
       "      <td>64.2</td>\n",
       "      <td>2.0</td>\n",
       "    </tr>\n",
       "    <tr>\n",
       "      <th>2</th>\n",
       "      <td>audi</td>\n",
       "      <td>A1</td>\n",
       "      <td>2016</td>\n",
       "      <td>11000</td>\n",
       "      <td>Manual</td>\n",
       "      <td>29946</td>\n",
       "      <td>Petrol</td>\n",
       "      <td>30</td>\n",
       "      <td>55.4</td>\n",
       "      <td>1.4</td>\n",
       "    </tr>\n",
       "    <tr>\n",
       "      <th>3</th>\n",
       "      <td>audi</td>\n",
       "      <td>A4</td>\n",
       "      <td>2017</td>\n",
       "      <td>16800</td>\n",
       "      <td>Automatic</td>\n",
       "      <td>25952</td>\n",
       "      <td>Diesel</td>\n",
       "      <td>145</td>\n",
       "      <td>67.3</td>\n",
       "      <td>2.0</td>\n",
       "    </tr>\n",
       "    <tr>\n",
       "      <th>4</th>\n",
       "      <td>audi</td>\n",
       "      <td>A3</td>\n",
       "      <td>2019</td>\n",
       "      <td>17300</td>\n",
       "      <td>Manual</td>\n",
       "      <td>1998</td>\n",
       "      <td>Petrol</td>\n",
       "      <td>145</td>\n",
       "      <td>49.6</td>\n",
       "      <td>1.0</td>\n",
       "    </tr>\n",
       "  </tbody>\n",
       "</table>\n",
       "</div>"
      ],
      "text/plain": [
       "  brand model  year  price transmission  mileage fuelType  tax   mpg  \\\n",
       "0  audi    A1  2017  12500       Manual    15735   Petrol  150  55.4   \n",
       "1  audi    A6  2016  16500    Automatic    36203   Diesel   20  64.2   \n",
       "2  audi    A1  2016  11000       Manual    29946   Petrol   30  55.4   \n",
       "3  audi    A4  2017  16800    Automatic    25952   Diesel  145  67.3   \n",
       "4  audi    A3  2019  17300       Manual     1998   Petrol  145  49.6   \n",
       "\n",
       "   engineSize  \n",
       "0         1.4  \n",
       "1         2.0  \n",
       "2         1.4  \n",
       "3         2.0  \n",
       "4         1.0  "
      ]
     },
     "execution_count": 7,
     "metadata": {},
     "output_type": "execute_result"
    }
   ],
   "source": [
    "df = pd.read_csv('./Datasets/Processed_Data/used_car_data_combined.csv')\n",
    "\n",
    "collective_null_values = df.isnull().sum().sum()\n",
    "print(f\"There are {collective_null_values} null entries present in combined set.\")\n",
    "\n",
    "df.head()"
   ]
  },
  {
   "cell_type": "markdown",
   "metadata": {},
   "source": [
    "# Abnormal values check\n",
    "\n",
    "checking to verify any incorrect classifications"
   ]
  },
  {
   "cell_type": "code",
   "execution_count": 8,
   "metadata": {},
   "outputs": [
    {
     "name": "stdout",
     "output_type": "stream",
     "text": [
      "['audi' 'bmw' 'ford' 'hyundai' 'merc' 'skoda' 'toyota' 'vauxhall' 'vw']\n",
      "['audi' 'bmw' 'ford' 'hyundai' 'mercedes' 'skoda' 'toyota' 'vauxhall' 'vw']\n",
      "Unique transmissions: ['Manual' 'Automatic' 'Semi-Auto' 'Other'].\n",
      "'Other count': 9\n",
      "Dropping 'other' class in transmission due to input error\n",
      "\n",
      "\n",
      "Unique fuel type: ['Petrol' 'Diesel' 'Hybrid' 'Other' 'Electric'].\n",
      "'Other' fuel count: 246\n",
      "Dropping irregular fuel types for these entries.\n",
      "\n",
      "\n",
      "Oldest car: 1970.\n",
      "Newest car: 2060.\n",
      "Newest car entries that exceed current year and are likely entered in error, will drop from dataset\n",
      "number of cars being dropped due to exceeding 2024: 1.\n"
     ]
    }
   ],
   "source": [
    "# Correcting Mercedes name\n",
    "unique_brands = df['brand'].unique()\n",
    "print(unique_brands)\n",
    "\n",
    "df['brand'] = df['brand'].replace(r'merc', 'mercedes', regex=True)\n",
    "\n",
    "unique_brands = df['brand'].unique()\n",
    "print(unique_brands)\n",
    "\n",
    "# Transmission class checks\n",
    "unique_transmissions = df['transmission'].unique()\n",
    "unique_transmissionsOtherCount = (df['transmission'] == 'Other').sum()\n",
    "print(f\"Unique transmissions: {unique_transmissions}.\")\n",
    "print(f\"'Other count': {unique_transmissionsOtherCount}\")\n",
    "print(f\"Dropping 'other' class in transmission due to input error\\n\\n\")\n",
    "\n",
    "cars_to_drop_transmission = df[df['transmission'] == 'Other'].index\n",
    "df.drop(cars_to_drop_transmission, inplace=True)\n",
    "\n",
    "\n",
    "##### Fuel class checks\n",
    "unique_fuelType = df['fuelType'].unique()\n",
    "unique_fuelTypeCount = (df['fuelType'] == 'Other').sum()\n",
    "print(f\"Unique fuel type: {unique_fuelType}.\")\n",
    "print(f\"'Other' fuel count: {unique_fuelTypeCount}\")\n",
    "\n",
    "cars_to_drop_fuel = df[df['fuelType'] == 'Other'].index\n",
    "df.drop(cars_to_drop_fuel, inplace=True)\n",
    "print(f\"Dropping irregular fuel types for these entries.\\n\\n\")\n",
    "\n",
    "\n",
    "###### year range check\n",
    "current_unix_timestamp = datetime.datetime.now().timestamp()\n",
    "current_datetime = datetime.datetime.fromtimestamp(current_unix_timestamp)\n",
    "current_year = current_datetime.year\n",
    "\n",
    "\n",
    "oldest_car_value = df['year'].min()\n",
    "newest_car_value = df['year'].max()\n",
    "print(f\"Oldest car: {oldest_car_value}.\")\n",
    "print(f\"Newest car: {newest_car_value}.\")\n",
    "\n",
    "\n",
    "print(f\"Newest car entries that exceed current year and are likely entered in error, will drop from dataset\")\n",
    "cars_to_drop_year = df[df['year'] > current_year].index\n",
    "over_current_year = (df['year'] > current_year).sum()\n",
    "\n",
    "print(f\"number of cars being dropped due to exceeding {current_year}: {over_current_year}.\")\n",
    "df.drop(cars_to_drop_year, inplace=True)\n",
    "\n",
    "df['model'] = df['model'].str.lstrip()\n",
    "df.to_csv('./Datasets/Processed_Data/used_car_data_combined.csv', index=False, header=True)"
   ]
  },
  {
   "cell_type": "markdown",
   "metadata": {},
   "source": [
    "# Preparing Maintainance costs CSV in advance of merger."
   ]
  },
  {
   "cell_type": "code",
   "execution_count": 9,
   "metadata": {},
   "outputs": [
    {
     "name": "stdout",
     "output_type": "stream",
     "text": [
      "     Make      Model  Year  MaintenanceCostYearly\n",
      "0     BMW         x3  2017                 607.20\n",
      "1   SKODA      karoq  2018                 359.07\n",
      "2  toyota      Hilux  2015                 655.78\n",
      "3    audi        RS4  2015                 859.98\n",
      "4     bmw   5 SERIES  2004                1264.16\n"
     ]
    }
   ],
   "source": [
    "maintenanceDF = pd.read_csv('./Datasets/Provided_Datasets/Used-car-dataset-challenge/Car_Maintenance_Costs.csv')\n",
    "print(maintenanceDF.head())"
   ]
  },
  {
   "cell_type": "code",
   "execution_count": 10,
   "metadata": {},
   "outputs": [
    {
     "name": "stdout",
     "output_type": "stream",
     "text": [
      "     Make      Model  Year  MaintenanceCostYearly\n",
      "0     BMW         x3  2017                 607.20\n",
      "1   SKODA      karoq  2018                 359.07\n",
      "2  toyota      Hilux  2015                 655.78\n",
      "3    audi        RS4  2015                 859.98\n",
      "4     bmw   5 SERIES  2004                1264.16\n",
      "     make      model  year  MaintenanceCostYearly\n",
      "0     bmw         X3  2017                 607.20\n",
      "1   skoda      Karoq  2018                 359.07\n",
      "2  toyota      Hilux  2015                 655.78\n",
      "3    audi        Rs4  2015                 859.98\n",
      "4     bmw   5 Series  2004                1264.16\n"
     ]
    }
   ],
   "source": [
    "# Load the datasets\n",
    "combined_cars_df = pd.read_csv(r'Datasets/Processed_Data/used_car_data_combined.csv')\n",
    "maintenanceDF = pd.read_csv(r'Datasets/Provided_Datasets/used-car-dataset-challenge/Car_Maintenance_Costs.csv')\n",
    "\n",
    "\n",
    "#print(combined_cars_df.head())\n",
    "print(maintenanceDF.head())\n",
    "\n",
    "\n",
    "# Convert 'Make' column to lowercase and replace 'hyundi' with 'hyundai'. \n",
    "maintenanceDF['Make'] = maintenanceDF['Make'].str.lower().replace(r'hyundi', 'hyundai', regex=True)\n",
    "\n",
    "# Ensure 'MaintenanceCostYearly' is a float with two decimal places\n",
    "maintenanceDF['MaintenanceCostYearly'] = maintenanceDF['MaintenanceCostYearly'].astype(float).round(2)\n",
    "\n",
    "# Strip leading/trailing whitespace and convert 'Model' column to lowercase\n",
    "maintenanceDF['Model'] = maintenanceDF['Model'].str.title()\n",
    "\n",
    "\n",
    "# making all columns lowercase for future merger\n",
    "maintenanceDF.rename(columns={'Make': 'Make'.lower()}, inplace=True)\n",
    "maintenanceDF.rename(columns={'Model': 'Model'.lower()}, inplace=True)\n",
    "maintenanceDF.rename(columns={'Year': 'Year'.lower()}, inplace=True)\n",
    "\n",
    "print(maintenanceDF.head())\n",
    "maintenanceDF.to_csv('./Datasets/Processed_Data/Car_Maintenance_Costs_Sanitized.csv', index=False, header=True)"
   ]
  },
  {
   "cell_type": "markdown",
   "metadata": {},
   "source": [
    "# 'model' class prep.\n"
   ]
  },
  {
   "cell_type": "code",
   "execution_count": 11,
   "metadata": {},
   "outputs": [],
   "source": [
    "maintenanceDF = pd.read_csv('./Datasets/Processed_Data/Car_Maintenance_Costs_Sanitized.csv')\n",
    "#print(maintenanceDF.head())\n",
    "\n",
    "\n",
    "# Function to get the best match for a given model\n",
    "def get_best_match(model, choices):\n",
    "    \n",
    "    if (model.lower() == 'ka') or (model.lower() == 'Ka'):\n",
    "        return ' KA'\n",
    "    \n",
    "    else:\n",
    "\n",
    "        match = process.extractOne(model, choices, scorer=process.fuzz.token_sort_ratio, score_cutoff=75)\n",
    "        # If a match is found with a score above the cutoff, return the matched model, else return the original\n",
    "        return match[0] if match else model\n",
    "\n",
    "\n",
    "\n",
    "# Strip leading/trailing whitespace and convert 'Model' column to lowercase\n",
    "maintenanceDF['model'] = maintenanceDF['model'].str.lower()\n",
    "maintenanceDF['model'] = maintenanceDF['model'].str.title()\n",
    "maintenanceDF['model'] = maintenanceDF['model'].str.strip()\n",
    "\n",
    "\n",
    "# Create a list of unique models from the combined_cars dataset for matching\n",
    "model_choices = combined_cars_df['model'].unique()\n",
    "\n",
    "# Replace 'Model' entries in df with the best match from combined_cars_df\n",
    "maintenanceDF['model'] = maintenanceDF['model'].apply(lambda x: get_best_match(x, model_choices))\n",
    "maintenanceDF['model'] = maintenanceDF['model'].str.lstrip()\n",
    "\n",
    "\n",
    "maintenanceDF.rename(columns={'make': 'brand'}, inplace=True)\n",
    "maintenanceDF.to_csv('./Datasets/Processed_Data/Car_Maintenance_Costs_Sanitized.csv', index=False, header=True)"
   ]
  },
  {
   "cell_type": "code",
   "execution_count": 12,
   "metadata": {},
   "outputs": [
    {
     "name": "stdout",
     "output_type": "stream",
     "text": [
      "Maintenance DF has 195 unique entries.\n",
      "Combined dataset DF has 195 unique entries.\n",
      "Entries only present in existing files: \n",
      "set()\n",
      "Entries only present in maintenance files: \n",
      "set()\n"
     ]
    }
   ],
   "source": [
    "unique_models_maintenance = maintenanceDF['model'].unique()\n",
    "print(f'Maintenance DF has {len(unique_models_maintenance)} unique entries.')\n",
    "#print(unique_models_maintenance)\n",
    "\n",
    "unique_models_combined = combined_cars_df['model'].unique()\n",
    "print(f'Combined dataset DF has {len(unique_models_combined)} unique entries.')\n",
    "#print(unique_models_combined)\n",
    "\n",
    "\n",
    "unique_models_existing_set = set(unique_models_combined)\n",
    "unique_models_maintenance_set = set(unique_models_maintenance)\n",
    "\n",
    "unique_to_existing_only = unique_models_existing_set - unique_models_maintenance_set\n",
    "print(\"Entries only present in existing files: \")\n",
    "print(unique_to_existing_only)\n",
    "\n",
    "unique_to_maintenance_only = unique_models_maintenance_set - unique_models_existing_set\n",
    "print(\"Entries only present in maintenance files: \")\n",
    "print(unique_to_maintenance_only)"
   ]
  },
  {
   "cell_type": "markdown",
   "metadata": {},
   "source": [
    "# Once all car models in Maintenance set acceptable, can merge into main\n"
   ]
  },
  {
   "cell_type": "code",
   "execution_count": 13,
   "metadata": {
    "scrolled": true
   },
   "outputs": [
    {
     "data": {
      "text/html": [
       "<div>\n",
       "<style scoped>\n",
       "    .dataframe tbody tr th:only-of-type {\n",
       "        vertical-align: middle;\n",
       "    }\n",
       "\n",
       "    .dataframe tbody tr th {\n",
       "        vertical-align: top;\n",
       "    }\n",
       "\n",
       "    .dataframe thead th {\n",
       "        text-align: right;\n",
       "    }\n",
       "</style>\n",
       "<table border=\"1\" class=\"dataframe\">\n",
       "  <thead>\n",
       "    <tr style=\"text-align: right;\">\n",
       "      <th></th>\n",
       "      <th>brand</th>\n",
       "      <th>model</th>\n",
       "      <th>year</th>\n",
       "      <th>price</th>\n",
       "      <th>transmission</th>\n",
       "      <th>mileage</th>\n",
       "      <th>fuelType</th>\n",
       "      <th>tax</th>\n",
       "      <th>mpg</th>\n",
       "      <th>engineSize</th>\n",
       "    </tr>\n",
       "  </thead>\n",
       "  <tbody>\n",
       "    <tr>\n",
       "      <th>0</th>\n",
       "      <td>audi</td>\n",
       "      <td>A1</td>\n",
       "      <td>2017</td>\n",
       "      <td>12500</td>\n",
       "      <td>Manual</td>\n",
       "      <td>15735</td>\n",
       "      <td>Petrol</td>\n",
       "      <td>150</td>\n",
       "      <td>55.4</td>\n",
       "      <td>1.4</td>\n",
       "    </tr>\n",
       "    <tr>\n",
       "      <th>1</th>\n",
       "      <td>audi</td>\n",
       "      <td>A6</td>\n",
       "      <td>2016</td>\n",
       "      <td>16500</td>\n",
       "      <td>Automatic</td>\n",
       "      <td>36203</td>\n",
       "      <td>Diesel</td>\n",
       "      <td>20</td>\n",
       "      <td>64.2</td>\n",
       "      <td>2.0</td>\n",
       "    </tr>\n",
       "    <tr>\n",
       "      <th>2</th>\n",
       "      <td>audi</td>\n",
       "      <td>A1</td>\n",
       "      <td>2016</td>\n",
       "      <td>11000</td>\n",
       "      <td>Manual</td>\n",
       "      <td>29946</td>\n",
       "      <td>Petrol</td>\n",
       "      <td>30</td>\n",
       "      <td>55.4</td>\n",
       "      <td>1.4</td>\n",
       "    </tr>\n",
       "    <tr>\n",
       "      <th>3</th>\n",
       "      <td>audi</td>\n",
       "      <td>A4</td>\n",
       "      <td>2017</td>\n",
       "      <td>16800</td>\n",
       "      <td>Automatic</td>\n",
       "      <td>25952</td>\n",
       "      <td>Diesel</td>\n",
       "      <td>145</td>\n",
       "      <td>67.3</td>\n",
       "      <td>2.0</td>\n",
       "    </tr>\n",
       "    <tr>\n",
       "      <th>4</th>\n",
       "      <td>audi</td>\n",
       "      <td>A3</td>\n",
       "      <td>2019</td>\n",
       "      <td>17300</td>\n",
       "      <td>Manual</td>\n",
       "      <td>1998</td>\n",
       "      <td>Petrol</td>\n",
       "      <td>145</td>\n",
       "      <td>49.6</td>\n",
       "      <td>1.0</td>\n",
       "    </tr>\n",
       "  </tbody>\n",
       "</table>\n",
       "</div>"
      ],
      "text/plain": [
       "  brand model  year  price transmission  mileage fuelType  tax   mpg  \\\n",
       "0  audi    A1  2017  12500       Manual    15735   Petrol  150  55.4   \n",
       "1  audi    A6  2016  16500    Automatic    36203   Diesel   20  64.2   \n",
       "2  audi    A1  2016  11000       Manual    29946   Petrol   30  55.4   \n",
       "3  audi    A4  2017  16800    Automatic    25952   Diesel  145  67.3   \n",
       "4  audi    A3  2019  17300       Manual     1998   Petrol  145  49.6   \n",
       "\n",
       "   engineSize  \n",
       "0         1.4  \n",
       "1         2.0  \n",
       "2         1.4  \n",
       "3         2.0  \n",
       "4         1.0  "
      ]
     },
     "execution_count": 13,
     "metadata": {},
     "output_type": "execute_result"
    }
   ],
   "source": [
    "main_car_data_DF = pd.read_csv('./Datasets/Processed_Data/used_car_data_combined.csv')\n",
    "maintenance_DF = pd.read_csv('./Datasets/Processed_Data/Car_Maintenance_Costs_Sanitized.csv')\n",
    "\n",
    "main_car_data_DF.head()\n"
   ]
  },
  {
   "cell_type": "code",
   "execution_count": 14,
   "metadata": {},
   "outputs": [
    {
     "data": {
      "text/html": [
       "<div>\n",
       "<style scoped>\n",
       "    .dataframe tbody tr th:only-of-type {\n",
       "        vertical-align: middle;\n",
       "    }\n",
       "\n",
       "    .dataframe tbody tr th {\n",
       "        vertical-align: top;\n",
       "    }\n",
       "\n",
       "    .dataframe thead th {\n",
       "        text-align: right;\n",
       "    }\n",
       "</style>\n",
       "<table border=\"1\" class=\"dataframe\">\n",
       "  <thead>\n",
       "    <tr style=\"text-align: right;\">\n",
       "      <th></th>\n",
       "      <th>brand</th>\n",
       "      <th>model</th>\n",
       "      <th>year</th>\n",
       "      <th>MaintenanceCostYearly</th>\n",
       "    </tr>\n",
       "  </thead>\n",
       "  <tbody>\n",
       "    <tr>\n",
       "      <th>0</th>\n",
       "      <td>bmw</td>\n",
       "      <td>X3</td>\n",
       "      <td>2017</td>\n",
       "      <td>607.20</td>\n",
       "    </tr>\n",
       "    <tr>\n",
       "      <th>1</th>\n",
       "      <td>skoda</td>\n",
       "      <td>Karoq</td>\n",
       "      <td>2018</td>\n",
       "      <td>359.07</td>\n",
       "    </tr>\n",
       "    <tr>\n",
       "      <th>2</th>\n",
       "      <td>toyota</td>\n",
       "      <td>Hilux</td>\n",
       "      <td>2015</td>\n",
       "      <td>655.78</td>\n",
       "    </tr>\n",
       "    <tr>\n",
       "      <th>3</th>\n",
       "      <td>audi</td>\n",
       "      <td>RS4</td>\n",
       "      <td>2015</td>\n",
       "      <td>859.98</td>\n",
       "    </tr>\n",
       "    <tr>\n",
       "      <th>4</th>\n",
       "      <td>bmw</td>\n",
       "      <td>5 Series</td>\n",
       "      <td>2004</td>\n",
       "      <td>1264.16</td>\n",
       "    </tr>\n",
       "  </tbody>\n",
       "</table>\n",
       "</div>"
      ],
      "text/plain": [
       "    brand     model  year  MaintenanceCostYearly\n",
       "0     bmw        X3  2017                 607.20\n",
       "1   skoda     Karoq  2018                 359.07\n",
       "2  toyota     Hilux  2015                 655.78\n",
       "3    audi       RS4  2015                 859.98\n",
       "4     bmw  5 Series  2004                1264.16"
      ]
     },
     "execution_count": 14,
     "metadata": {},
     "output_type": "execute_result"
    }
   ],
   "source": [
    "maintenance_DF.head()"
   ]
  },
  {
   "cell_type": "code",
   "execution_count": 15,
   "metadata": {},
   "outputs": [],
   "source": [
    "combinedDF = pd.merge(main_car_data_DF, maintenance_DF[['brand', 'model', 'year', 'MaintenanceCostYearly']],\n",
    "                     on=['brand', 'model', 'year'],\n",
    "                     how='left')\n",
    "\n",
    "#combinedDF.head()\n",
    "combinedDF.to_csv('./Datasets/Processed_Data/used_car_data_combined.csv', index=False, header=True)"
   ]
  },
  {
   "cell_type": "code",
   "execution_count": 16,
   "metadata": {},
   "outputs": [
    {
     "name": "stdout",
     "output_type": "stream",
     "text": [
      "   Audi  A1  5\n",
      "0  audi  A3  4\n",
      "1  AUDI  a4  2\n",
      "2  audi  A5  5\n",
      "3  audi  A6  3\n",
      "4  Audi  A7  3\n"
     ]
    }
   ],
   "source": [
    "carReviewsDF = pd.read_csv(r'Datasets/Provided_Datasets/used-car-dataset-challenge/Car_Reviews.csv')\n",
    "print(carReviewsDF.head())"
   ]
  },
  {
   "cell_type": "markdown",
   "metadata": {},
   "source": [
    "# Preparing and merging ratings using same steps"
   ]
  },
  {
   "cell_type": "code",
   "execution_count": 17,
   "metadata": {},
   "outputs": [],
   "source": [
    "# Adding the column titles to the ratings data and saving\n",
    "column_titles = ['brand', 'model', 'rating']\n",
    "ratingsDF = pd.read_csv(r'Datasets/Provided_Datasets/used-car-dataset-challenge/Car_Reviews.csv', header=None, names=column_titles)\n",
    "\n",
    "ratingsDF.to_csv('./Datasets/Processed_Data/Car_Reviews_Sanitized.csv', index=False, header=True)"
   ]
  },
  {
   "cell_type": "code",
   "execution_count": 18,
   "metadata": {},
   "outputs": [
    {
     "data": {
      "text/html": [
       "<div>\n",
       "<style scoped>\n",
       "    .dataframe tbody tr th:only-of-type {\n",
       "        vertical-align: middle;\n",
       "    }\n",
       "\n",
       "    .dataframe tbody tr th {\n",
       "        vertical-align: top;\n",
       "    }\n",
       "\n",
       "    .dataframe thead th {\n",
       "        text-align: right;\n",
       "    }\n",
       "</style>\n",
       "<table border=\"1\" class=\"dataframe\">\n",
       "  <thead>\n",
       "    <tr style=\"text-align: right;\">\n",
       "      <th></th>\n",
       "      <th>brand</th>\n",
       "      <th>model</th>\n",
       "      <th>rating</th>\n",
       "    </tr>\n",
       "  </thead>\n",
       "  <tbody>\n",
       "    <tr>\n",
       "      <th>0</th>\n",
       "      <td>Audi</td>\n",
       "      <td>A1</td>\n",
       "      <td>5</td>\n",
       "    </tr>\n",
       "    <tr>\n",
       "      <th>1</th>\n",
       "      <td>audi</td>\n",
       "      <td>A3</td>\n",
       "      <td>4</td>\n",
       "    </tr>\n",
       "    <tr>\n",
       "      <th>2</th>\n",
       "      <td>AUDI</td>\n",
       "      <td>a4</td>\n",
       "      <td>2</td>\n",
       "    </tr>\n",
       "    <tr>\n",
       "      <th>3</th>\n",
       "      <td>audi</td>\n",
       "      <td>A5</td>\n",
       "      <td>5</td>\n",
       "    </tr>\n",
       "    <tr>\n",
       "      <th>4</th>\n",
       "      <td>audi</td>\n",
       "      <td>A6</td>\n",
       "      <td>3</td>\n",
       "    </tr>\n",
       "  </tbody>\n",
       "</table>\n",
       "</div>"
      ],
      "text/plain": [
       "  brand model  rating\n",
       "0  Audi    A1       5\n",
       "1  audi    A3       4\n",
       "2  AUDI    a4       2\n",
       "3  audi    A5       5\n",
       "4  audi    A6       3"
      ]
     },
     "execution_count": 18,
     "metadata": {},
     "output_type": "execute_result"
    }
   ],
   "source": [
    "ratingsDF.head()"
   ]
  },
  {
   "cell_type": "code",
   "execution_count": 19,
   "metadata": {},
   "outputs": [],
   "source": [
    "# Convert 'brand' column to lowercase and replace 'hyundi' with 'hyundai'. \n",
    "ratingsDF['brand'] = ratingsDF['brand'].str.lower().replace(r'hyundi', 'hyundai', regex=True)\n",
    "# Also converting 'volkswagen' to 'vw' to match existing data.\n",
    "ratingsDF['brand'] = ratingsDF['brand'].replace(r'volkswagen', 'vw', regex=True)\n",
    "\n",
    "# Strip leading/trailing whitespace and convert 'Model' column to lowercase. Title gives first initial a capital\n",
    "ratingsDF['model'] = ratingsDF['model'].str.title()\n",
    "\n",
    "\n",
    "# making all columns lowercase for future merger\n",
    "ratingsDF.rename(columns={'brand': 'brand'.lower()}, inplace=True)\n",
    "ratingsDF.rename(columns={'model': 'model'.lower()}, inplace=True)\n",
    "\n",
    "ratingsDF.to_csv('./Datasets/Processed_Data/Car_Reviews_Sanitized.csv', index=False, header=True)"
   ]
  },
  {
   "cell_type": "code",
   "execution_count": 20,
   "metadata": {
    "scrolled": true
   },
   "outputs": [
    {
     "data": {
      "text/html": [
       "<div>\n",
       "<style scoped>\n",
       "    .dataframe tbody tr th:only-of-type {\n",
       "        vertical-align: middle;\n",
       "    }\n",
       "\n",
       "    .dataframe tbody tr th {\n",
       "        vertical-align: top;\n",
       "    }\n",
       "\n",
       "    .dataframe thead th {\n",
       "        text-align: right;\n",
       "    }\n",
       "</style>\n",
       "<table border=\"1\" class=\"dataframe\">\n",
       "  <thead>\n",
       "    <tr style=\"text-align: right;\">\n",
       "      <th></th>\n",
       "      <th>brand</th>\n",
       "      <th>model</th>\n",
       "      <th>rating</th>\n",
       "    </tr>\n",
       "  </thead>\n",
       "  <tbody>\n",
       "    <tr>\n",
       "      <th>0</th>\n",
       "      <td>audi</td>\n",
       "      <td>A1</td>\n",
       "      <td>5</td>\n",
       "    </tr>\n",
       "    <tr>\n",
       "      <th>1</th>\n",
       "      <td>audi</td>\n",
       "      <td>A3</td>\n",
       "      <td>4</td>\n",
       "    </tr>\n",
       "    <tr>\n",
       "      <th>2</th>\n",
       "      <td>audi</td>\n",
       "      <td>A4</td>\n",
       "      <td>2</td>\n",
       "    </tr>\n",
       "    <tr>\n",
       "      <th>3</th>\n",
       "      <td>audi</td>\n",
       "      <td>A5</td>\n",
       "      <td>5</td>\n",
       "    </tr>\n",
       "    <tr>\n",
       "      <th>4</th>\n",
       "      <td>audi</td>\n",
       "      <td>A6</td>\n",
       "      <td>3</td>\n",
       "    </tr>\n",
       "  </tbody>\n",
       "</table>\n",
       "</div>"
      ],
      "text/plain": [
       "  brand model  rating\n",
       "0  audi    A1       5\n",
       "1  audi    A3       4\n",
       "2  audi    A4       2\n",
       "3  audi    A5       5\n",
       "4  audi    A6       3"
      ]
     },
     "execution_count": 20,
     "metadata": {},
     "output_type": "execute_result"
    }
   ],
   "source": [
    "ratingsDF.head()"
   ]
  },
  {
   "cell_type": "markdown",
   "metadata": {},
   "source": [
    "# finding abnormal values here"
   ]
  },
  {
   "cell_type": "code",
   "execution_count": 21,
   "metadata": {},
   "outputs": [
    {
     "name": "stdout",
     "output_type": "stream",
     "text": [
      "ratings DF has 10 unique entries.\n",
      "['audi' 'bmw' 'ford' 'hyundai' 'make' 'mercedes' 'skoda' 'toyota'\n",
      " 'vauxhall' 'vw']\n",
      "ratings DF has 9 unique entries.\n",
      "['audi' 'bmw' 'ford' 'hyundai' 'mercedes' 'skoda' 'toyota' 'vauxhall' 'vw']\n"
     ]
    }
   ],
   "source": [
    "# Finding and removing incorrect brand name\n",
    "\n",
    "unique_brands_ratings = ratingsDF['brand'].unique()\n",
    "print(f'ratings DF has {len(unique_brands_ratings)} unique entries.')\n",
    "print(unique_brands_ratings)\n",
    "\n",
    "indices_to_drop = ratingsDF[ratingsDF['brand'] == 'make'].index\n",
    "ratingsDF.drop(indices_to_drop, inplace=True)\n",
    "\n",
    "unique_brands_ratings = ratingsDF['brand'].unique()\n",
    "print(f'ratings DF has {len(unique_brands_ratings)} unique entries.')\n",
    "print(unique_brands_ratings)"
   ]
  },
  {
   "cell_type": "code",
   "execution_count": 22,
   "metadata": {},
   "outputs": [],
   "source": [
    "combined_cars_df = pd.read_csv('./Datasets/Processed_Data/used_car_data_combined.csv')\n",
    "ratingsDF = pd.read_csv('Datasets/Processed_Data/Car_Reviews_Sanitized.csv')\n",
    "\n",
    "\n",
    "# Strip leading/trailing whitespace and convert 'Model' column to lowercase\n",
    "ratingsDF['model'] = ratingsDF['model'].str.lower()\n",
    "ratingsDF['model'] = ratingsDF['model'].str.title()\n",
    "ratingsDF['model'] = ratingsDF['model'].str.strip()\n",
    "\n",
    "# Create a list of unique models from the combined_cars dataset for matching\n",
    "#model_choices = combined_cars_df['model'].unique()\n",
    "#print(model_choices)\n",
    "\n",
    "#rating_choices = ratingsDF['model'].unique()\n",
    "#print(rating_choices)\n",
    "\n",
    "# Function to get the best match for a given model\n",
    "def get_best_match(model, choices):\n",
    "    \n",
    "    if (model.lower() == 'ka') or (model.lower() == 'Ka'):\n",
    "        return ' KA'\n",
    "    \n",
    "    else:\n",
    "        match = process.extractOne(model, choices, scorer=process.fuzz.token_sort_ratio, score_cutoff=75)\n",
    "        # If a match is found with a score above the cutoff, return the matched model, else return the original\n",
    "        return match[0] if match else model\n",
    "\n",
    "\n",
    "# Replace 'Model' entries in df with the best match from combined_cars_df\n",
    "ratingsDF['model'] = ratingsDF['model'].apply(lambda x: get_best_match(x, model_choices))\n",
    "ratingsDF['model'] = ratingsDF['model'].str.lstrip()\n",
    "\n",
    "indices_to_drop = ratingsDF[ratingsDF['model'] == 'Model'].index\n",
    "ratingsDF.drop(indices_to_drop, inplace=True)\n",
    "#rating_choices = ratingsDF['model'].unique()\n",
    "#print(rating_choices)\n",
    "\n",
    "ratingsDF.to_csv('./Datasets/Processed_Data/Car_Reviews_Sanitized.csv', index=False, header=True)"
   ]
  },
  {
   "cell_type": "code",
   "execution_count": 23,
   "metadata": {},
   "outputs": [
    {
     "name": "stdout",
     "output_type": "stream",
     "text": [
      "ratings DF has 195 unique model entries.\n",
      "Combined dataset DF has 195 unique model entries.\n",
      "Entries only present in existing files: \n",
      "set()\n",
      "Entries only present in ratings files: \n",
      "set()\n"
     ]
    }
   ],
   "source": [
    "unique_models_ratings = ratingsDF['model'].unique()\n",
    "print(f'ratings DF has {len(unique_models_ratings)} unique model entries.')\n",
    "#print(unique_models_ratings)\n",
    "\n",
    "\n",
    "unique_models_combined = combined_cars_df['model'].unique()\n",
    "print(f'Combined dataset DF has {len(unique_models_combined)} unique model entries.')\n",
    "#print(unique_models_combined)\n",
    "\n",
    "\n",
    "unique_models_existing_set = set(unique_models_combined)\n",
    "unique_models_ratings_set = set(unique_models_ratings)\n",
    "\n",
    "unique_to_existing_only = unique_models_existing_set - unique_models_ratings_set\n",
    "print(\"Entries only present in existing files: \")\n",
    "print(unique_to_existing_only)\n",
    "\n",
    "unique_to_ratings_only = unique_models_ratings_set - unique_models_existing_set\n",
    "print(\"Entries only present in ratings files: \")\n",
    "print(unique_to_ratings_only)"
   ]
  },
  {
   "cell_type": "code",
   "execution_count": 24,
   "metadata": {},
   "outputs": [
    {
     "name": "stdout",
     "output_type": "stream",
     "text": [
      "  brand model  rating\n",
      "0  audi    A1       5\n",
      "1  audi    A3       4\n",
      "2  audi    A4       2\n",
      "3  audi    A5       5\n",
      "4  audi    A6       3\n"
     ]
    }
   ],
   "source": [
    "print(ratingsDF.head())"
   ]
  },
  {
   "cell_type": "code",
   "execution_count": 25,
   "metadata": {},
   "outputs": [],
   "source": [
    "combinedDF = pd.merge(combinedDF, ratingsDF[['brand', 'model', 'rating']],\n",
    "                     on=['brand', 'model'],\n",
    "                     how='left')\n",
    "\n",
    "combinedDF.to_csv('./Datasets/Processed_Data/used_car_data_combined.csv', index=False, header=True)"
   ]
  },
  {
   "cell_type": "code",
   "execution_count": 26,
   "metadata": {},
   "outputs": [
    {
     "data": {
      "text/html": [
       "<div>\n",
       "<style scoped>\n",
       "    .dataframe tbody tr th:only-of-type {\n",
       "        vertical-align: middle;\n",
       "    }\n",
       "\n",
       "    .dataframe tbody tr th {\n",
       "        vertical-align: top;\n",
       "    }\n",
       "\n",
       "    .dataframe thead th {\n",
       "        text-align: right;\n",
       "    }\n",
       "</style>\n",
       "<table border=\"1\" class=\"dataframe\">\n",
       "  <thead>\n",
       "    <tr style=\"text-align: right;\">\n",
       "      <th></th>\n",
       "      <th>brand</th>\n",
       "      <th>model</th>\n",
       "      <th>year</th>\n",
       "      <th>price</th>\n",
       "      <th>transmission</th>\n",
       "      <th>mileage</th>\n",
       "      <th>fuelType</th>\n",
       "      <th>tax</th>\n",
       "      <th>mpg</th>\n",
       "      <th>engineSize</th>\n",
       "      <th>MaintenanceCostYearly</th>\n",
       "      <th>rating</th>\n",
       "    </tr>\n",
       "  </thead>\n",
       "  <tbody>\n",
       "    <tr>\n",
       "      <th>0</th>\n",
       "      <td>audi</td>\n",
       "      <td>A1</td>\n",
       "      <td>2017</td>\n",
       "      <td>12500</td>\n",
       "      <td>Manual</td>\n",
       "      <td>15735</td>\n",
       "      <td>Petrol</td>\n",
       "      <td>150</td>\n",
       "      <td>55.4</td>\n",
       "      <td>1.4</td>\n",
       "      <td>787.98</td>\n",
       "      <td>5</td>\n",
       "    </tr>\n",
       "    <tr>\n",
       "      <th>1</th>\n",
       "      <td>audi</td>\n",
       "      <td>A6</td>\n",
       "      <td>2016</td>\n",
       "      <td>16500</td>\n",
       "      <td>Automatic</td>\n",
       "      <td>36203</td>\n",
       "      <td>Diesel</td>\n",
       "      <td>20</td>\n",
       "      <td>64.2</td>\n",
       "      <td>2.0</td>\n",
       "      <td>661.97</td>\n",
       "      <td>3</td>\n",
       "    </tr>\n",
       "    <tr>\n",
       "      <th>2</th>\n",
       "      <td>audi</td>\n",
       "      <td>A1</td>\n",
       "      <td>2016</td>\n",
       "      <td>11000</td>\n",
       "      <td>Manual</td>\n",
       "      <td>29946</td>\n",
       "      <td>Petrol</td>\n",
       "      <td>30</td>\n",
       "      <td>55.4</td>\n",
       "      <td>1.4</td>\n",
       "      <td>708.90</td>\n",
       "      <td>5</td>\n",
       "    </tr>\n",
       "    <tr>\n",
       "      <th>3</th>\n",
       "      <td>audi</td>\n",
       "      <td>A4</td>\n",
       "      <td>2017</td>\n",
       "      <td>16800</td>\n",
       "      <td>Automatic</td>\n",
       "      <td>25952</td>\n",
       "      <td>Diesel</td>\n",
       "      <td>145</td>\n",
       "      <td>67.3</td>\n",
       "      <td>2.0</td>\n",
       "      <td>595.38</td>\n",
       "      <td>2</td>\n",
       "    </tr>\n",
       "    <tr>\n",
       "      <th>4</th>\n",
       "      <td>audi</td>\n",
       "      <td>A3</td>\n",
       "      <td>2019</td>\n",
       "      <td>17300</td>\n",
       "      <td>Manual</td>\n",
       "      <td>1998</td>\n",
       "      <td>Petrol</td>\n",
       "      <td>145</td>\n",
       "      <td>49.6</td>\n",
       "      <td>1.0</td>\n",
       "      <td>500.10</td>\n",
       "      <td>4</td>\n",
       "    </tr>\n",
       "  </tbody>\n",
       "</table>\n",
       "</div>"
      ],
      "text/plain": [
       "  brand model  year  price transmission  mileage fuelType  tax   mpg  \\\n",
       "0  audi    A1  2017  12500       Manual    15735   Petrol  150  55.4   \n",
       "1  audi    A6  2016  16500    Automatic    36203   Diesel   20  64.2   \n",
       "2  audi    A1  2016  11000       Manual    29946   Petrol   30  55.4   \n",
       "3  audi    A4  2017  16800    Automatic    25952   Diesel  145  67.3   \n",
       "4  audi    A3  2019  17300       Manual     1998   Petrol  145  49.6   \n",
       "\n",
       "   engineSize  MaintenanceCostYearly  rating  \n",
       "0         1.4                 787.98       5  \n",
       "1         2.0                 661.97       3  \n",
       "2         1.4                 708.90       5  \n",
       "3         2.0                 595.38       2  \n",
       "4         1.0                 500.10       4  "
      ]
     },
     "execution_count": 26,
     "metadata": {},
     "output_type": "execute_result"
    }
   ],
   "source": [
    "combinedDF.head()"
   ]
  },
  {
   "cell_type": "markdown",
   "metadata": {},
   "source": [
    "# Data prep. complete"
   ]
  }
 ],
 "metadata": {
  "kernelspec": {
   "display_name": "Python 3 (ipykernel)",
   "language": "python",
   "name": "python3"
  },
  "language_info": {
   "codemirror_mode": {
    "name": "ipython",
    "version": 3
   },
   "file_extension": ".py",
   "mimetype": "text/x-python",
   "name": "python",
   "nbconvert_exporter": "python",
   "pygments_lexer": "ipython3",
   "version": "3.9.12"
  }
 },
 "nbformat": 4,
 "nbformat_minor": 2
}
