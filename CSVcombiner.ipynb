{
 "cells": [
  {
   "cell_type": "markdown",
   "id": "33c2787c",
   "metadata": {},
   "source": [
    "combining all CSVs"
   ]
  },
  {
   "cell_type": "code",
   "execution_count": null,
   "id": "8e94b7ca",
   "metadata": {},
   "outputs": [],
   "source": [
    "import csv\n",
    "import glob\n",
    "\n",
    "# Define the path where your CSV files are located\n",
    "path = '/path/to/your/csv/files/*.csv'  # Adjust this to your path, and make sure to use '*.csv'\n",
    "\n",
    "# Define the output file where you want to combine all CSVs\n",
    "output_file = '/path/to/your/output/combined_csv.csv'  # Adjust this to your desired output path\n",
    "\n",
    "# Get a list of all CSV files in the directory\n",
    "csv_files = glob.glob(path)\n",
    "\n",
    "# Initialize a list to store all CSV headers (to ensure they are the same across files)\n",
    "headers = []\n",
    "\n",
    "# Open the output file in write mode\n",
    "with open(output_file, 'w', newline='', encoding='utf-8') as f_out:\n",
    "    writer = csv.writer(f_out)\n",
    "\n",
    "    # Process each file in turn\n",
    "    for file in csv_files:\n",
    "        with open(file, newline='', encoding='utf-8') as f_in:\n",
    "            reader = csv.reader(f_in)\n",
    "            header = next(reader)  # Read the header row\n",
    "\n",
    "            # If it's the first file, write the header and add it to the headers list\n",
    "            if not headers:\n",
    "                writer.writerow(header)\n",
    "                headers = header\n",
    "            else:\n",
    "                # Optionally, you can assert here to make sure all files have the same header\n",
    "                assert headers == header, f\"Header mismatch in file: {file}\"\n",
    "\n",
    "            # Write the data rows\n",
    "            for row in reader:\n",
    "                writer.writerow(row)\n",
    "\n",
    "print(f\"All CSV files have been combined into {output_file}\")"
   ]
  },
  {
   "cell_type": "code",
   "execution_count": null,
   "id": "7a5c69cc",
   "metadata": {},
   "outputs": [],
   "source": []
  },
  {
   "cell_type": "code",
   "execution_count": null,
   "id": "ce8eb48d",
   "metadata": {},
   "outputs": [],
   "source": []
  }
 ],
 "metadata": {
  "kernelspec": {
   "display_name": "Python 3 (ipykernel)",
   "language": "python",
   "name": "python3"
  },
  "language_info": {
   "codemirror_mode": {
    "name": "ipython",
    "version": 3
   },
   "file_extension": ".py",
   "mimetype": "text/x-python",
   "name": "python",
   "nbconvert_exporter": "python",
   "pygments_lexer": "ipython3",
   "version": "3.9.12"
  }
 },
 "nbformat": 4,
 "nbformat_minor": 5
}
